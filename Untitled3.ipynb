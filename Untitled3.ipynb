{
 "cells": [
  {
   "cell_type": "code",
   "execution_count": 241,
   "metadata": {
    "collapsed": false
   },
   "outputs": [],
   "source": [
    "from nltk.stem import PorterStemmer\n",
    "from nltk.tokenize import sent_tokenize, word_tokenize\n",
    "from docx import Document\n",
    "from nltk.corpus import stopwords\n",
    "from nltk.stem import WordNetLemmatizer\n",
    "import nltk\n",
    "import glob\n",
    "import errno\n",
    "import collections\n",
    "import os"
   ]
  },
  {
   "cell_type": "code",
   "execution_count": 242,
   "metadata": {
    "collapsed": false
   },
   "outputs": [
    {
     "name": "stdout",
     "output_type": "stream",
     "text": [
      "[nltk_data] Downloading package stopwords to C:\\Users\\Ishita\n",
      "[nltk_data]     Jain\\AppData\\Roaming\\nltk_data...\n",
      "[nltk_data]   Package stopwords is already up-to-date!\n"
     ]
    },
    {
     "data": {
      "text/plain": [
       "True"
      ]
     },
     "execution_count": 242,
     "metadata": {},
     "output_type": "execute_result"
    }
   ],
   "source": [
    "nltk.download('stopwords')"
   ]
  },
  {
   "cell_type": "code",
   "execution_count": 243,
   "metadata": {
    "collapsed": false
   },
   "outputs": [
    {
     "name": "stdout",
     "output_type": "stream",
     "text": [
      "[nltk_data] Downloading package wordnet to C:\\Users\\Ishita\n",
      "[nltk_data]     Jain\\AppData\\Roaming\\nltk_data...\n",
      "[nltk_data]   Package wordnet is already up-to-date!\n"
     ]
    },
    {
     "data": {
      "text/plain": [
       "True"
      ]
     },
     "execution_count": 243,
     "metadata": {},
     "output_type": "execute_result"
    }
   ],
   "source": [
    "nltk.download('wordnet')"
   ]
  },
  {
   "cell_type": "code",
   "execution_count": 258,
   "metadata": {
    "collapsed": true
   },
   "outputs": [],
   "source": [
    "dictG=[['',0]] #Final Dictionary\n",
    "queryG=[] #Query\n",
    "listC=[['',0]] \n",
    "docsG=[] #Docslist"
   ]
  },
  {
   "cell_type": "code",
   "execution_count": 259,
   "metadata": {
    "collapsed": false
   },
   "outputs": [
    {
     "name": "stdout",
     "output_type": "stream",
     "text": [
      "[['', 0]]\n"
     ]
    }
   ],
   "source": [
    "print(dictG)"
   ]
  },
  {
   "cell_type": "code",
   "execution_count": 260,
   "metadata": {
    "collapsed": false
   },
   "outputs": [
    {
     "name": "stdout",
     "output_type": "stream",
     "text": [
      "[]\n"
     ]
    }
   ],
   "source": [
    "print(queryG)"
   ]
  },
  {
   "cell_type": "code",
   "execution_count": 261,
   "metadata": {
    "collapsed": false
   },
   "outputs": [
    {
     "data": {
      "text/plain": [
       "<module 'Desktop.texts' (namespace)>"
      ]
     },
     "execution_count": 261,
     "metadata": {},
     "output_type": "execute_result"
    }
   ],
   "source": [
    "texts"
   ]
  },
  {
   "cell_type": "code",
   "execution_count": 262,
   "metadata": {
    "collapsed": false
   },
   "outputs": [],
   "source": [
    "def buildIndex(fileName, docID):\n",
    "\n",
    "    words = set() #set to store words from each doc ( initialised words of type set)\n",
    "    \n",
    "    #from each doc, append words into raw words list.\n",
    "    document=Document(fileName)\n",
    "    for p in document.paragraphs:\n",
    "        listT=p.text.split()\n",
    "        for word in listT:\n",
    "            words.add(word)    \n",
    "    #print(words)\n",
    "    \n",
    "    #Removing Stop words\n",
    "    stop_words=list(stopwords.words('english'))    \n",
    "    filteredQ=[w for w in list(words) if not w in stop_words]\n",
    "    #print('***************** filtered sentence after removing stop words*****************')\n",
    "    #print(filteredQ)\n",
    "    \n",
    "    #Lemmentizing\n",
    "    lemmatizer = WordNetLemmatizer()\n",
    "    lemmaList=[]\n",
    "    for word in filteredQ:\n",
    "        lemmaList.append(lemmatizer.lemmatize(word))\n",
    "    #print('*************** After lemmatization**********')\n",
    "    #print(lemmaList)\n",
    "    \n",
    "    flagD=0\n",
    "    flagDuplicateDoc=0\n",
    "    for word in lemmaList:\n",
    "        for element in dictG:\n",
    "            if(element[0]==word):\n",
    "                flagD=1\n",
    "                for x in element[1:]:\n",
    "                    if(x==docID):\n",
    "                        flagDuplicateDoc=1\n",
    "                        break\n",
    "                if(flagDuplicateDoc==0):\n",
    "                    element.append(docID)\n",
    "                if(flagDuplicateDoc==1):\n",
    "                    flagDuplicateDoc=0 \n",
    "        if(flagD==0):\n",
    "            dictG.append([word,docID])\n",
    "        if(flagD==1):\n",
    "            flagD=0\n"
   ]
  },
  {
   "cell_type": "code",
   "execution_count": 263,
   "metadata": {
    "collapsed": true
   },
   "outputs": [],
   "source": [
    "def processQuery():\n",
    "    global queryG\n",
    "    flagQ=0\n",
    "    queryRaw=input('Enter your query - ')\n",
    "    queryT=queryRaw.split()\n",
    "    #lemmeantize the query\n",
    "    lemmatizer = WordNetLemmatizer()\n",
    "    for word in queryT:\n",
    "        queryG.append(lemmatizer.lemmatize(word))\n",
    "    \n",
    "    obtainTermsFromDictionary()\n",
    "    getRequiredDocs()"
   ]
  },
  {
   "cell_type": "code",
   "execution_count": 264,
   "metadata": {
    "collapsed": true
   },
   "outputs": [],
   "source": [
    "def obtainTermsFromDictionary():\n",
    "    global dictG\n",
    "    global listC\n",
    "    listC=[['',0]]\n",
    "    for word in queryG:\n",
    "        for element in dictG:\n",
    "            if(word==element[0]):\n",
    "                listC.append(element)\n",
    "    listC.pop(0)"
   ]
  },
  {
   "cell_type": "code",
   "execution_count": 265,
   "metadata": {
    "collapsed": true
   },
   "outputs": [],
   "source": [
    "def getRequiredDocs():\n",
    "    \n",
    "    print(queryG) #given the current query\n",
    "    ListA = list() #temporary list of docs for boolean query\n",
    "    termCount = 0 #current termcount\n",
    "    templist = listC[termCount][1:] #doc list from 1st term    \n",
    "    stack = list(); #stack to manage the query\n",
    "    \n",
    "    while len(queryG) > 0:\n",
    "        \n",
    "        c = queryG.pop(0)\n",
    "\n",
    "        if isinstance(c, collections.Sequence):\n",
    "            if c in ['and','or','not']: \n",
    "                stack.append(c)\n",
    "            else:\n",
    "                for e in listC:\n",
    "                    if e[0] == c:\n",
    "                        stack.append(listC[listC.index(e)][1:])\n",
    "        \n",
    "        if ')' in c:\n",
    "            \n",
    "            num2 = stack.pop()\n",
    "            op = stack.pop()\n",
    "            num1 = stack.pop()\n",
    "            \n",
    "            if op == \"and\":\n",
    "                stack.append(And(num1,num2))\n",
    "            if op == \"or\":\n",
    "                stack.append(Or(num1,num2))\n",
    "            if op == \"not\":\n",
    "                stack.append(Not(num1,num2))\n",
    "          \n",
    "    print('The Docs against the query are - ')\n",
    "    print(stack[0])"
   ]
  },
  {
   "cell_type": "code",
   "execution_count": 266,
   "metadata": {
    "collapsed": true
   },
   "outputs": [],
   "source": [
    "def Not(list1,list2):\n",
    "    \n",
    "    ListA = list()\n",
    "    if(len(list1) >= len(list2)):\n",
    "        for x in list1:\n",
    "            if x not in list2:\n",
    "                ListA.append(x)\n",
    "    elif(len(list2) >= len(list1)):            \n",
    "        for x in list2:\n",
    "             if x not in list1:\n",
    "                ListA.append(x)\n",
    "    return ListA"
   ]
  },
  {
   "cell_type": "code",
   "execution_count": 267,
   "metadata": {
    "collapsed": true
   },
   "outputs": [],
   "source": [
    "def Or(list1,list2):\n",
    "    \n",
    "    ListA = list()\n",
    "    for x in list1:\n",
    "        ListA.append(x)\n",
    "        for y in list2:\n",
    "            if(x != y):\n",
    "                ListA.append(y)\n",
    "    \n",
    "    return list(set(ListA))"
   ]
  },
  {
   "cell_type": "code",
   "execution_count": 268,
   "metadata": {
    "collapsed": true
   },
   "outputs": [],
   "source": [
    "def And(list1,list2):\n",
    "    \n",
    "    ListA = list()\n",
    "    for x in list1:\n",
    "        for y in list2:\n",
    "            if(x == y):\n",
    "                ListA.append(x)\n",
    "    \n",
    "    return ListA"
   ]
  },
  {
   "cell_type": "code",
   "execution_count": null,
   "metadata": {
    "collapsed": false
   },
   "outputs": [],
   "source": []
  },
  {
   "cell_type": "code",
   "execution_count": 269,
   "metadata": {
    "collapsed": false
   },
   "outputs": [],
   "source": [
    "path = os.path.join(os.path.dirname('C:\\\\Users\\\\Ishita Jain\\\\Desktop\\\\'),'ex_text\\\\*.docx')\n",
    "files=glob.glob(path)\n",
    "docID=0"
   ]
  },
  {
   "cell_type": "code",
   "execution_count": 270,
   "metadata": {
    "collapsed": false
   },
   "outputs": [],
   "source": [
    "for name in files:\n",
    "    docID+=1\n",
    "    buildIndex(name,docID)"
   ]
  },
  {
   "cell_type": "code",
   "execution_count": 271,
   "metadata": {
    "collapsed": false
   },
   "outputs": [
    {
     "name": "stdout",
     "output_type": "stream",
     "text": [
      "Enter your query - director\n",
      "['director']\n",
      "The Docs against the query are - \n",
      "[5]\n"
     ]
    }
   ],
   "source": [
    "processQuery()"
   ]
  },
  {
   "cell_type": "code",
   "execution_count": 161,
   "metadata": {
    "collapsed": true
   },
   "outputs": [],
   "source": [
    "path = os.path.join(os.path.dirname('C:\\\\Users\\\\Ishita Jain\\\\Desktop\\\\'),'ex_text\\\\*.docx')\n",
    "files=glob.glob(path)\n",
    "docID=0"
   ]
  },
  {
   "cell_type": "code",
   "execution_count": 162,
   "metadata": {
    "collapsed": false
   },
   "outputs": [
    {
     "data": {
      "text/plain": [
       "'C:\\\\Users\\\\Ishita Jain\\\\Desktop\\\\ex_text\\\\*.docx'"
      ]
     },
     "execution_count": 162,
     "metadata": {},
     "output_type": "execute_result"
    }
   ],
   "source": [
    "path"
   ]
  },
  {
   "cell_type": "code",
   "execution_count": 163,
   "metadata": {
    "collapsed": false
   },
   "outputs": [
    {
     "data": {
      "text/plain": [
       "['C:\\\\Users\\\\Ishita Jain\\\\Desktop\\\\ex_text\\\\Doc1.docx',\n",
       " 'C:\\\\Users\\\\Ishita Jain\\\\Desktop\\\\ex_text\\\\Doc2.docx',\n",
       " 'C:\\\\Users\\\\Ishita Jain\\\\Desktop\\\\ex_text\\\\Doc3.docx',\n",
       " 'C:\\\\Users\\\\Ishita Jain\\\\Desktop\\\\ex_text\\\\Doc4.docx',\n",
       " 'C:\\\\Users\\\\Ishita Jain\\\\Desktop\\\\ex_text\\\\Doc5.docx',\n",
       " 'C:\\\\Users\\\\Ishita Jain\\\\Desktop\\\\ex_text\\\\Doc6.docx']"
      ]
     },
     "execution_count": 163,
     "metadata": {},
     "output_type": "execute_result"
    }
   ],
   "source": [
    "files"
   ]
  },
  {
   "cell_type": "code",
   "execution_count": 151,
   "metadata": {
    "collapsed": true
   },
   "outputs": [],
   "source": [
    "wordss=set()\n"
   ]
  },
  {
   "cell_type": "code",
   "execution_count": 165,
   "metadata": {
    "collapsed": false
   },
   "outputs": [],
   "source": [
    "document=Document('C:\\\\Users\\\\Ishita Jain\\\\Desktop\\\\ex_text\\\\Doc1.docx')\n",
    "for p in document.paragraphs:\n",
    "        listT=p.text.split()\n",
    "        for word in listT:\n",
    "            wordss.add(word)  "
   ]
  },
  {
   "cell_type": "code",
   "execution_count": 166,
   "metadata": {
    "collapsed": false
   },
   "outputs": [
    {
     "data": {
      "text/plain": [
       "{'&',\n",
       " '1201',\n",
       " '2009',\n",
       " '318',\n",
       " '3d',\n",
       " '3dq',\n",
       " '3qd',\n",
       " '5450',\n",
       " '5488',\n",
       " '650',\n",
       " '6862',\n",
       " '725',\n",
       " '8432',\n",
       " '94305',\n",
       " 'a',\n",
       " 'about',\n",
       " 'activities',\n",
       " 'admissions',\n",
       " 'alumni',\n",
       " 'analysis',\n",
       " 'and',\n",
       " 'apply',\n",
       " 'approaches',\n",
       " 'are',\n",
       " 'assesment',\n",
       " 'b',\n",
       " 'building',\n",
       " 'by',\n",
       " 'ca',\n",
       " 'campus',\n",
       " 'care',\n",
       " 'careers',\n",
       " 'case',\n",
       " 'center',\n",
       " 'centers',\n",
       " \"children's\",\n",
       " 'clark',\n",
       " 'clinical',\n",
       " 'clinically',\n",
       " 'clinics',\n",
       " 'collaboration',\n",
       " 'community',\n",
       " 'contact',\n",
       " 'continuing',\n",
       " 'cost',\n",
       " 'data',\n",
       " \"dean's\",\n",
       " 'deliver',\n",
       " 'department',\n",
       " 'departments',\n",
       " 'design',\n",
       " 'develop',\n",
       " 'development',\n",
       " 'developments',\n",
       " 'diagnostic',\n",
       " 'directions',\n",
       " 'display',\n",
       " 'drive',\n",
       " 'education',\n",
       " 'effective',\n",
       " 'efficient',\n",
       " 'emergency',\n",
       " 'equipment',\n",
       " 'exploration',\n",
       " 'faculty',\n",
       " 'fellowships',\n",
       " 'find',\n",
       " 'footer',\n",
       " 'for',\n",
       " 'getting',\n",
       " 'give',\n",
       " 'goals',\n",
       " 'h',\n",
       " 'health',\n",
       " 'here',\n",
       " 'history',\n",
       " 'home',\n",
       " 'hospital',\n",
       " 'hotels',\n",
       " 'images',\n",
       " 'imaging',\n",
       " 'in',\n",
       " 'industry',\n",
       " 'information',\n",
       " 'infrastructure',\n",
       " 'innovative',\n",
       " 'institutes',\n",
       " 'interdisciplinary',\n",
       " 'irt',\n",
       " 'james',\n",
       " 'jobs',\n",
       " 'lab',\n",
       " 'laboratory',\n",
       " 'lane',\n",
       " 'latest',\n",
       " 'library',\n",
       " 'links',\n",
       " 'list',\n",
       " 'local',\n",
       " 'locally',\n",
       " 'locations',\n",
       " 'lucas',\n",
       " 'lucile',\n",
       " 'm',\n",
       " 'magnetic',\n",
       " 'management',\n",
       " 'maps',\n",
       " 'medical',\n",
       " 'medicine',\n",
       " 'members',\n",
       " 'mission',\n",
       " 'monitoring',\n",
       " 'more',\n",
       " 'navigation',\n",
       " 'new',\n",
       " 'news',\n",
       " 'newsletter',\n",
       " 'of',\n",
       " 'only',\n",
       " 'opportunities',\n",
       " 'or',\n",
       " 'overview',\n",
       " 'p170',\n",
       " 'packard',\n",
       " 'partnerships',\n",
       " 'patient',\n",
       " 'patients',\n",
       " 'person',\n",
       " 'physician',\n",
       " 'physicians',\n",
       " 'planning',\n",
       " 'powered',\n",
       " 'profiles',\n",
       " 'programs',\n",
       " 'projects',\n",
       " 'protocol',\n",
       " 'public',\n",
       " 'quantitative',\n",
       " 'radiology',\n",
       " 'rd',\n",
       " 'reading',\n",
       " 'relevant',\n",
       " 'renewal',\n",
       " 'research',\n",
       " 'resonance',\n",
       " 'resources',\n",
       " 'result',\n",
       " 'richard',\n",
       " 's344',\n",
       " 'school',\n",
       " 'search',\n",
       " 'section',\n",
       " 'service',\n",
       " 'services',\n",
       " 'site',\n",
       " 'sites',\n",
       " 'software',\n",
       " 'staff',\n",
       " 'stanford',\n",
       " 'studies',\n",
       " 'techniques',\n",
       " 'technologists',\n",
       " 'terms',\n",
       " 'testimonials',\n",
       " 'that',\n",
       " 'the',\n",
       " 'therapy',\n",
       " 'this',\n",
       " 'through',\n",
       " 'to',\n",
       " 'train',\n",
       " 'training',\n",
       " 'trials',\n",
       " 'university',\n",
       " 'us',\n",
       " 'use',\n",
       " 'valid',\n",
       " 'visiting',\n",
       " 'visualization',\n",
       " 'volunteering',\n",
       " 'ways',\n",
       " 'welch',\n",
       " 'worldwide',\n",
       " 'you'}"
      ]
     },
     "execution_count": 166,
     "metadata": {},
     "output_type": "execute_result"
    }
   ],
   "source": [
    "wordss"
   ]
  },
  {
   "cell_type": "code",
   "execution_count": 172,
   "metadata": {
    "collapsed": false
   },
   "outputs": [],
   "source": [
    "stop_words=list(stopwords.words('english'))    \n",
    "filteredQ=[w for w in list(wordss) if not w in stop_words]"
   ]
  },
  {
   "cell_type": "code",
   "execution_count": 173,
   "metadata": {
    "collapsed": false
   },
   "outputs": [
    {
     "data": {
      "text/plain": [
       "['radiology',\n",
       " 'exploration',\n",
       " 'history',\n",
       " 'images',\n",
       " 'display',\n",
       " 'person',\n",
       " '2009',\n",
       " 'library',\n",
       " 'fellowships',\n",
       " 'list',\n",
       " 'ways',\n",
       " 'admissions',\n",
       " 'physicians',\n",
       " '650',\n",
       " 'developments',\n",
       " 'studies',\n",
       " 'technologists',\n",
       " 'goals',\n",
       " 'patient',\n",
       " 'diagnostic',\n",
       " 'projects',\n",
       " 'partnerships',\n",
       " 'visiting',\n",
       " 'overview',\n",
       " '&',\n",
       " 'site',\n",
       " 'visualization',\n",
       " 'imaging',\n",
       " 'new',\n",
       " 'techniques',\n",
       " 'training',\n",
       " '3qd',\n",
       " 'continuing',\n",
       " 'result',\n",
       " 'medicine',\n",
       " 'drive',\n",
       " '8432',\n",
       " '5488',\n",
       " 'care',\n",
       " 'school',\n",
       " 'lucas',\n",
       " 'campus',\n",
       " 'hotels',\n",
       " 'patients',\n",
       " 'lucile',\n",
       " 'home',\n",
       " 'lane',\n",
       " 'development',\n",
       " 'therapy',\n",
       " 'train',\n",
       " 'public',\n",
       " 'powered',\n",
       " 'deliver',\n",
       " 'community',\n",
       " 'equipment',\n",
       " 'lab',\n",
       " 'mission',\n",
       " 'terms',\n",
       " 'h',\n",
       " 'analysis',\n",
       " 'magnetic',\n",
       " '3d',\n",
       " 'reading',\n",
       " 'interdisciplinary',\n",
       " 'cost',\n",
       " 'sites',\n",
       " 'relevant',\n",
       " 'resonance',\n",
       " 'welch',\n",
       " '725',\n",
       " 'medical',\n",
       " 'industry',\n",
       " 'give',\n",
       " 'staff',\n",
       " 'software',\n",
       " 'alumni',\n",
       " 'clinics',\n",
       " \"dean's\",\n",
       " 'opportunities',\n",
       " 'valid',\n",
       " 'section',\n",
       " 'apply',\n",
       " 'information',\n",
       " 'footer',\n",
       " 'us',\n",
       " 'effective',\n",
       " 'local',\n",
       " 'members',\n",
       " 'efficient',\n",
       " 'faculty',\n",
       " 'monitoring',\n",
       " 'newsletter',\n",
       " 'profiles',\n",
       " 'find',\n",
       " 'collaboration',\n",
       " 'ca',\n",
       " 'centers',\n",
       " 'stanford',\n",
       " 'laboratory',\n",
       " 'planning',\n",
       " 'education',\n",
       " '94305',\n",
       " 'emergency',\n",
       " 'search',\n",
       " '6862',\n",
       " 'develop',\n",
       " 'news',\n",
       " 'center',\n",
       " 'links',\n",
       " '1201',\n",
       " 's344',\n",
       " 'university',\n",
       " '318',\n",
       " 'jobs',\n",
       " 'b',\n",
       " 'testimonials',\n",
       " 'departments',\n",
       " 'latest',\n",
       " 'data',\n",
       " 'rd',\n",
       " 'physician',\n",
       " 'innovative',\n",
       " 'clark',\n",
       " 'hospital',\n",
       " 'institutes',\n",
       " 'quantitative',\n",
       " 'locations',\n",
       " 'maps',\n",
       " '5450',\n",
       " 'careers',\n",
       " 'health',\n",
       " 'contact',\n",
       " 'assesment',\n",
       " 'case',\n",
       " 'infrastructure',\n",
       " 'programs',\n",
       " 'james',\n",
       " 'management',\n",
       " 'approaches',\n",
       " 'design',\n",
       " 'p170',\n",
       " 'directions',\n",
       " 'clinical',\n",
       " 'protocol',\n",
       " 'services',\n",
       " 'clinically',\n",
       " 'use',\n",
       " 'packard',\n",
       " 'navigation',\n",
       " '3dq',\n",
       " 'building',\n",
       " 'locally',\n",
       " 'worldwide',\n",
       " 'irt',\n",
       " 'activities',\n",
       " 'resources',\n",
       " \"children's\",\n",
       " 'richard',\n",
       " 'service',\n",
       " 'trials',\n",
       " 'research',\n",
       " 'getting',\n",
       " 'renewal',\n",
       " 'volunteering',\n",
       " 'department']"
      ]
     },
     "execution_count": 173,
     "metadata": {},
     "output_type": "execute_result"
    }
   ],
   "source": [
    "filteredQ"
   ]
  },
  {
   "cell_type": "code",
   "execution_count": 177,
   "metadata": {
    "collapsed": false
   },
   "outputs": [],
   "source": [
    "lemmatizer = WordNetLemmatizer()\n",
    "lemmaList=[]\n",
    "for word in filteredQ:\n",
    "    lemmaList.append(lemmatizer.lemmatize(word))"
   ]
  },
  {
   "cell_type": "code",
   "execution_count": 178,
   "metadata": {
    "collapsed": false
   },
   "outputs": [
    {
     "data": {
      "text/plain": [
       "['radiology',\n",
       " 'exploration',\n",
       " 'history',\n",
       " 'image',\n",
       " 'display',\n",
       " 'person',\n",
       " '2009',\n",
       " 'library',\n",
       " 'fellowship',\n",
       " 'list',\n",
       " 'way',\n",
       " 'admission',\n",
       " 'physician',\n",
       " '650',\n",
       " 'development',\n",
       " 'study',\n",
       " 'technologist',\n",
       " 'goal',\n",
       " 'patient',\n",
       " 'diagnostic',\n",
       " 'project',\n",
       " 'partnership',\n",
       " 'visiting',\n",
       " 'overview',\n",
       " '&',\n",
       " 'site',\n",
       " 'visualization',\n",
       " 'imaging',\n",
       " 'new',\n",
       " 'technique',\n",
       " 'training',\n",
       " '3qd',\n",
       " 'continuing',\n",
       " 'result',\n",
       " 'medicine',\n",
       " 'drive',\n",
       " '8432',\n",
       " '5488',\n",
       " 'care',\n",
       " 'school',\n",
       " 'lucas',\n",
       " 'campus',\n",
       " 'hotel',\n",
       " 'patient',\n",
       " 'lucile',\n",
       " 'home',\n",
       " 'lane',\n",
       " 'development',\n",
       " 'therapy',\n",
       " 'train',\n",
       " 'public',\n",
       " 'powered',\n",
       " 'deliver',\n",
       " 'community',\n",
       " 'equipment',\n",
       " 'lab',\n",
       " 'mission',\n",
       " 'term',\n",
       " 'h',\n",
       " 'analysis',\n",
       " 'magnetic',\n",
       " '3d',\n",
       " 'reading',\n",
       " 'interdisciplinary',\n",
       " 'cost',\n",
       " 'site',\n",
       " 'relevant',\n",
       " 'resonance',\n",
       " 'welch',\n",
       " '725',\n",
       " 'medical',\n",
       " 'industry',\n",
       " 'give',\n",
       " 'staff',\n",
       " 'software',\n",
       " 'alumnus',\n",
       " 'clinic',\n",
       " \"dean's\",\n",
       " 'opportunity',\n",
       " 'valid',\n",
       " 'section',\n",
       " 'apply',\n",
       " 'information',\n",
       " 'footer',\n",
       " 'u',\n",
       " 'effective',\n",
       " 'local',\n",
       " 'member',\n",
       " 'efficient',\n",
       " 'faculty',\n",
       " 'monitoring',\n",
       " 'newsletter',\n",
       " 'profile',\n",
       " 'find',\n",
       " 'collaboration',\n",
       " 'ca',\n",
       " 'center',\n",
       " 'stanford',\n",
       " 'laboratory',\n",
       " 'planning',\n",
       " 'education',\n",
       " '94305',\n",
       " 'emergency',\n",
       " 'search',\n",
       " '6862',\n",
       " 'develop',\n",
       " 'news',\n",
       " 'center',\n",
       " 'link',\n",
       " '1201',\n",
       " 's344',\n",
       " 'university',\n",
       " '318',\n",
       " 'job',\n",
       " 'b',\n",
       " 'testimonial',\n",
       " 'department',\n",
       " 'latest',\n",
       " 'data',\n",
       " 'rd',\n",
       " 'physician',\n",
       " 'innovative',\n",
       " 'clark',\n",
       " 'hospital',\n",
       " 'institute',\n",
       " 'quantitative',\n",
       " 'location',\n",
       " 'map',\n",
       " '5450',\n",
       " 'career',\n",
       " 'health',\n",
       " 'contact',\n",
       " 'assesment',\n",
       " 'case',\n",
       " 'infrastructure',\n",
       " 'program',\n",
       " 'james',\n",
       " 'management',\n",
       " 'approach',\n",
       " 'design',\n",
       " 'p170',\n",
       " 'direction',\n",
       " 'clinical',\n",
       " 'protocol',\n",
       " 'service',\n",
       " 'clinically',\n",
       " 'use',\n",
       " 'packard',\n",
       " 'navigation',\n",
       " '3dq',\n",
       " 'building',\n",
       " 'locally',\n",
       " 'worldwide',\n",
       " 'irt',\n",
       " 'activity',\n",
       " 'resource',\n",
       " \"children's\",\n",
       " 'richard',\n",
       " 'service',\n",
       " 'trial',\n",
       " 'research',\n",
       " 'getting',\n",
       " 'renewal',\n",
       " 'volunteering',\n",
       " 'department']"
      ]
     },
     "execution_count": 178,
     "metadata": {},
     "output_type": "execute_result"
    }
   ],
   "source": [
    "lemmaList"
   ]
  },
  {
   "cell_type": "code",
   "execution_count": 201,
   "metadata": {
    "collapsed": false
   },
   "outputs": [
    {
     "data": {
      "text/plain": [
       "'xploration'"
      ]
     },
     "execution_count": 201,
     "metadata": {},
     "output_type": "execute_result"
    }
   ],
   "source": [
    "lemmaList[1][1:]"
   ]
  },
  {
   "cell_type": "code",
   "execution_count": 202,
   "metadata": {
    "collapsed": false
   },
   "outputs": [
    {
     "ename": "NameError",
     "evalue": "name 'listc' is not defined",
     "output_type": "error",
     "traceback": [
      "\u001b[0;31m---------------------------------------------------------------------------\u001b[0m",
      "\u001b[0;31mNameError\u001b[0m                                 Traceback (most recent call last)",
      "\u001b[0;32m<ipython-input-202-fb2fbaf84e81>\u001b[0m in \u001b[0;36m<module>\u001b[0;34m()\u001b[0m\n\u001b[0;32m----> 1\u001b[0;31m \u001b[0mlistc\u001b[0m\u001b[1;33m\u001b[0m\u001b[0m\n\u001b[0m",
      "\u001b[0;31mNameError\u001b[0m: name 'listc' is not defined"
     ]
    }
   ],
   "source": [
    "listc"
   ]
  },
  {
   "cell_type": "code",
   "execution_count": 203,
   "metadata": {
    "collapsed": false
   },
   "outputs": [
    {
     "data": {
      "text/plain": [
       "[]"
      ]
     },
     "execution_count": 203,
     "metadata": {},
     "output_type": "execute_result"
    }
   ],
   "source": [
    "listC"
   ]
  },
  {
   "cell_type": "code",
   "execution_count": null,
   "metadata": {
    "collapsed": true
   },
   "outputs": [],
   "source": []
  }
 ],
 "metadata": {
  "anaconda-cloud": {},
  "kernelspec": {
   "display_name": "Python [conda env:Anaconda3]",
   "language": "python",
   "name": "conda-env-Anaconda3-py"
  },
  "language_info": {
   "codemirror_mode": {
    "name": "ipython",
    "version": 3
   },
   "file_extension": ".py",
   "mimetype": "text/x-python",
   "name": "python",
   "nbconvert_exporter": "python",
   "pygments_lexer": "ipython3",
   "version": "3.5.2"
  }
 },
 "nbformat": 4,
 "nbformat_minor": 1
}
